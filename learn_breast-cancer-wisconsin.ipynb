{
 "cells": [
  {
   "cell_type": "code",
   "execution_count": 1,
   "metadata": {
    "collapsed": false
   },
   "outputs": [],
   "source": [
    "%matplotlib inline\n",
    "\n",
    "import perceptron\n",
    "import pandas as pd\n",
    "import numpy as np\n",
    "import matplotlib.pyplot as plt"
   ]
  },
  {
   "cell_type": "code",
   "execution_count": 2,
   "metadata": {
    "collapsed": false
   },
   "outputs": [
    {
     "name": "stdout",
     "output_type": "stream",
     "text": [
      "         1   2   3   4   5   6   7   8   9   10\n",
      "0                                              \n",
      "1000025   5   1   1   1   2   1   3   1   1   2\n",
      "1002945   5   4   4   5   7  10   3   2   1   2\n",
      "1015425   3   1   1   1   2   2   3   1   1   2\n",
      "1016277   6   8   8   1   3   4   3   7   1   2\n",
      "1017023   4   1   1   3   2   1   3   1   1   2\n",
      "1      int64\n",
      "2      int64\n",
      "3      int64\n",
      "4      int64\n",
      "5      int64\n",
      "6     object\n",
      "7      int64\n",
      "8      int64\n",
      "9      int64\n",
      "10     int64\n",
      "dtype: object\n",
      "         1   2   3   4   5   6   7   8   9   10\n",
      "0                                              \n",
      "1000025   5   1   1   1   2   1   3   1   1   2\n",
      "1002945   5   4   4   5   7  10   3   2   1   2\n",
      "1015425   3   1   1   1   2   2   3   1   1   2\n",
      "1016277   6   8   8   1   3   4   3   7   1   2\n",
      "1017023   4   1   1   3   2   1   3   1   1   2\n",
      "1      int64\n",
      "2      int64\n",
      "3      int64\n",
      "4      int64\n",
      "5      int64\n",
      "6     object\n",
      "7      int64\n",
      "8      int64\n",
      "9      int64\n",
      "10     int64\n",
      "dtype: object\n",
      "[1, 10, 2, 4, 1, 10, 10, 1, 1, 1, 1, 1, 3, 3, 9, 1, 1, 1, 10, 1, 10, 7, 1, 1, 7, 1, 1, 1, 1, 1, 1, 5, 1, 1, 1, 1, 1, 10, 7, 3, 10, 1, 1, 1, 9, 1, 1, 8, 3, 4, 5, 8, 8, 5, 6, 1, 10, 2, 3, 2, 8, 2, 1, 2, 1, 10, 9, 1, 1, 2, 1, 10, 4, 2, 1, 1, 3, 1, 1, 1, 1, 2, 9, 4, 8, 10, 1, 1, 1, 1, 1, 1, 1, 1, 1, 1, 6, 10, 5, 5, 1, 3, 1, 3, 10, 10, 1, 9, 2, 9, 10, 8, 3, 5, 2, 10, 3, 2, 1, 2, 10, 10, 7, 1, 10, 1, 10, 1, 1, 1, 10, 1, 1, 2, 1, 1, 1, 1, 1, 5, 5, 1, 8, 2, 1, 10, 1, 10, 5, 3, 1, 10, 1, 1, 10, 10, 1, 1, 3, 2, 10, 1, 1, 1, 1, 1, 1, 10, 10, 10, 1, 1, 1, 10, 1, 1, 1, 10, 10, 1, 8, 10, 8, 1, 8, 10, 1, 1, 1, 1, 7, 1, 1, 1, 10, 10, 1, 1, 1, 10, 5, 1, 1, 1, 10, 8, 1, 10, 10, 5, 1, 1, 4, 1, 1, 10, 5, 8, 10, 1, 10, 5, 1, 10, 7, 8, 1, 10, 1, 10, 2, 9, 10, 2, 1, 1, 5, 1, 2, 10, 9, 1, 1, 10, 10, 10, 8, 10, 1, 1, 1, 8, 10, 10, 10, 10, 3, 1, 10, 10, 4, 1, 10, 1, 10, 4, 1, 1, 1, 1, 7, 1, 1, 10, 10, 10, 10, 10, 1, 5, 10, 1, 1, 10, 10, 5, 1, 10, 4, 1, 10, 1, 10, 10, 1, 1, 3, 5, 1, 1, 1, 1, 1, 10, 8, 1, 5, 10, 1, 10, 1, 1, 10, 1, 4, 10, 8, 1, 1, 10, 10, 1, 10, 1, 1, 10, 10, 1, 1, 1, 10, 1, 1, 1, 1, 8, 1, 1, 3, 10, 1, 1, 3, 10, 4, 7, 10, 10, 3, 3, 1, 1, 10, 10, 1, 1, 1, 1, 1, 1, 1, 1, 1, 1, 1, 1, 1, 10, 1, 1, 1, 1, 10, 1, 1, 2, 1, 10, 1, 1, 1, 1, 1, 1, 1, 1, 9, 1, 1, 4, 1, 1, 1, 1, 2, 1, 1, 4, 1, 10, 3, 10, 1, 2, 1, 3, 10, 1, 1, 1, 10, 1, 2, 1, 1, 1, 1, 1, 1, 8, 10, 1, 1, 1, 1, 10, 4, 3, 2, 1, 1, 1, 1, 1, 10, 1, 1, 1, 10, 1, 6, 10, 3, 1, 1, 1, 5, 1, 1, 1, 4, 10, 10, 1, 1, 1, 1, 1, 1, 1, 1, 1, 1, 1, 10, 1, 1, 5, 10, 1, 3, 1, 10, 3, 4, 1, 10, 1, 10, 5, 1, 1, 1, 1, 1, 1, 1, 1, 1, 1, 1, 5, 4, 1, 1, 1, 1, 1, 1, 10, 10, 1, 1, 1, 10, 1, 1, 5, 10, 1, 1, 1, 1, 1, 1, 10, 1, 1, 1, 1, 1, 1, 1, 1, 1, 2, 1, 1, 1, 1, 1, 10, 1, 1, 5, 1, 1, 1, 5, 1, 1, 1, 1, 1, 1, 1, 1, 1, 1, 1, 10, 1, 3, 10, 5, 10, 10, 1, 1, 2, 1, 1, 1, 1, 1, 1, 10, 10, 1, 1, 1, 10, 1, 3, 1, 1, 10, 10, 1, 10, 1, 1, 1, 1, 1, 1, 1, 1, 1, 10, 8, 1, 1, 10, 1, 10, 2, 10, 1, 1, 1, 1, 1, 1, 1, 2, 1, 1, 1, 4, 6, 5, 1, 1, 1, 1, 1, 3, 1, 1, 1, 2, 1, 1, 1, 1, 1, 1, 1, 1, 1, 1, 2, 1, 4, 1, 1, 1, 1, 1, 1, 1, 10, 1, 1, 1, 1, 1, 1, 1, 1, 1, 1, 5, 8, 1, 1, 1, 1, 1, 1, 1, 1, 1, 10, 10, 1, 1, 1, 1, 1, 1, 1, 1, 1, 5, 1, 1, 2, 1, 3, 4, 5]\n",
      "1     int64\n",
      "2     int64\n",
      "3     int64\n",
      "4     int64\n",
      "5     int64\n",
      "6     int64\n",
      "7     int64\n",
      "8     int64\n",
      "9     int64\n",
      "10    int64\n",
      "dtype: object\n"
     ]
    },
    {
     "name": "stderr",
     "output_type": "stream",
     "text": [
      "/home/hari/anaconda2/lib/python2.7/site-packages/ipykernel/__main__.py:12: SettingWithCopyWarning: \n",
      "A value is trying to be set on a copy of a slice from a DataFrame.\n",
      "Try using .loc[row_indexer,col_indexer] = value instead\n",
      "\n",
      "See the caveats in the documentation: http://pandas.pydata.org/pandas-docs/stable/indexing.html#indexing-view-versus-copy\n"
     ]
    }
   ],
   "source": [
    "data_types = zip()\n",
    "#df1 = pd.read_csv('breast-cancer-wisconsin.data',header=None,index_col=0,converters={6:np.int32})\n",
    "df1 = pd.read_csv('breast-cancer-wisconsin.data',header=None,index_col=0)\n",
    "print(df1.head())\n",
    "print(df1.dtypes)\n",
    "df2 = df1[df1[6] != '?']\n",
    "print(df2.head())\n",
    "print(df2.dtypes)\n",
    "df2_6 = [int(a) for a in df2[6].values]\n",
    "print(df2_6)\n",
    "df3 = df2\n",
    "df3[6] = df2_6\n",
    "print(df3.dtypes)"
   ]
  },
  {
   "cell_type": "code",
   "execution_count": 3,
   "metadata": {
    "collapsed": false
   },
   "outputs": [],
   "source": [
    "XX = df3[list(range(1,10))].values\n",
    "yy = df3[10].values\n",
    "yy = np.where(yy == 2, -1, 1)"
   ]
  },
  {
   "cell_type": "code",
   "execution_count": 4,
   "metadata": {
    "collapsed": false
   },
   "outputs": [
    {
     "name": "stdout",
     "output_type": "stream",
     "text": [
      "[106, 64, 61, 53, 48, 39, 43, 37, 40, 39, 35, 41, 34, 39, 30, 37, 39, 28, 34, 37, 35, 34, 31, 29, 28, 32, 24, 28, 32, 29, 28, 33, 27, 26, 26, 29, 27, 29, 30, 26, 31, 26, 23, 27, 26, 31, 30, 29, 24, 25, 25, 27, 32, 24, 24, 26, 26, 20, 28, 19, 26, 24, 26, 25, 29, 25, 28, 31, 28, 24, 28, 26, 28, 25, 26, 27, 22, 27, 27, 27, 26, 30, 26, 24, 24, 27, 24, 25, 23, 27, 27, 27, 24, 23, 23, 21, 26, 27, 27, 23]\n",
      "[-7.42  0.46  0.34  0.12  0.18 -0.08  0.22  0.28  0.06  0.26]\n"
     ]
    },
    {
     "name": "stderr",
     "output_type": "stream",
     "text": [
      "perceptron.py:48: FutureWarning: comparison to `None` will result in an elementwise object comparison in the future.\n",
      "  if self.weights_ == None:\n"
     ]
    }
   ],
   "source": [
    "p = perceptron.Perceptron()\n",
    "error_counts = p.train(XX, yy, n_iter = 100)\n",
    "print(error_counts)\n",
    "print(p.weights_)"
   ]
  },
  {
   "cell_type": "code",
   "execution_count": 5,
   "metadata": {
    "collapsed": false
   },
   "outputs": [
    {
     "name": "stdout",
     "output_type": "stream",
     "text": [
      "100\n"
     ]
    }
   ],
   "source": [
    "print(len(error_counts))"
   ]
  }
 ],
 "metadata": {
  "kernelspec": {
   "display_name": "Python 2",
   "language": "python",
   "name": "python2"
  },
  "language_info": {
   "codemirror_mode": {
    "name": "ipython",
    "version": 2
   },
   "file_extension": ".py",
   "mimetype": "text/x-python",
   "name": "python",
   "nbconvert_exporter": "python",
   "pygments_lexer": "ipython2",
   "version": "2.7.11"
  }
 },
 "nbformat": 4,
 "nbformat_minor": 0
}
