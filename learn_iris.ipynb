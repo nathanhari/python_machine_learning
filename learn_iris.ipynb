{
 "cells": [
  {
   "cell_type": "code",
   "execution_count": 1,
   "metadata": {
    "collapsed": false
   },
   "outputs": [],
   "source": [
    "%matplotlib inline\n",
    "\n",
    "import perceptron\n",
    "import pandas as pd\n",
    "import numpy as np\n",
    "import matplotlib.pyplot as plt"
   ]
  },
  {
   "cell_type": "code",
   "execution_count": 2,
   "metadata": {
    "collapsed": false
   },
   "outputs": [
    {
     "name": "stdout",
     "output_type": "stream",
     "text": [
      "     0    1    2    3            4\n",
      "0  5.1  3.5  1.4  0.2  Iris-setosa\n",
      "1  4.9  3.0  1.4  0.2  Iris-setosa\n",
      "2  4.7  3.2  1.3  0.2  Iris-setosa\n",
      "3  4.6  3.1  1.5  0.2  Iris-setosa\n",
      "4  5.0  3.6  1.4  0.2  Iris-setosa\n",
      "['Iris-setosa' 'Iris-versicolor' 'Iris-virginica']\n",
      "['Iris-setosa', 'Iris-versicolor']\n"
     ]
    }
   ],
   "source": [
    "df1 = pd.read_csv('iris.data',header=None)\n",
    "print(df1.head())\n",
    "print(df1[4].unique())\n",
    "print(list(df1[4].unique())[:2])"
   ]
  },
  {
   "cell_type": "code",
   "execution_count": 3,
   "metadata": {
    "collapsed": false
   },
   "outputs": [],
   "source": [
    "outputs = list(df1[4].unique())[:2]\n",
    "df1_0 = df1[df1[4] == outputs[0]]\n",
    "df1_1 = df1[df1[4] == outputs[1]]\n",
    "df2 = df1_0.append(df1_1)"
   ]
  },
  {
   "cell_type": "code",
   "execution_count": 4,
   "metadata": {
    "collapsed": false
   },
   "outputs": [],
   "source": [
    "yy = np.where(df2[4] == 'Iris-setosa', -1, 1)\n",
    "XX = df2[[0, 2]].values"
   ]
  },
  {
   "cell_type": "code",
   "execution_count": 5,
   "metadata": {
    "collapsed": false
   },
   "outputs": [
    {
     "name": "stderr",
     "output_type": "stream",
     "text": [
      "perceptron.py:51: FutureWarning: comparison to `None` will result in an elementwise object comparison in the future.\n",
      "  if self.weights_ == None:\n"
     ]
    }
   ],
   "source": [
    "p = perceptron.Perceptron()\n",
    "error_counts = p.train(XX, yy)"
   ]
  },
  {
   "cell_type": "code",
   "execution_count": 6,
   "metadata": {
    "collapsed": false
   },
   "outputs": [
    {
     "name": "stdout",
     "output_type": "stream",
     "text": [
      "[-0.04  -0.068  0.182]\n",
      "[2, 2, 3, 2, 1, 0]\n"
     ]
    }
   ],
   "source": [
    "print(p.weights_)\n",
    "print(error_counts)"
   ]
  },
  {
   "cell_type": "code",
   "execution_count": 7,
   "metadata": {
    "collapsed": false
   },
   "outputs": [
    {
     "data": {
      "image/png": "[encoded data removed]",
      "text/plain": [
       "<matplotlib.figure.Figure at 0x7fe45a1de4d0>"
      ]
     },
     "metadata": {},
     "output_type": "display_data"
    }
   ],
   "source": [
    "plt.scatter(XX[0:50,0], XX[0:50, 1], color = 'red', marker = 'x', label = 'setosa')\n",
    "plt.scatter(XX[50:100,0], XX[50:100, 1], color = 'blue', marker = 'o', label = 'versicolor')\n",
    "plt.xlabel('petal length')\n",
    "plt.ylabel('sepal length')\n",
    "plt.legend(loc = 'upper left')\n",
    "xs = [4, 7.5]\n",
    "ys = [-1 * (p.weights_[0] + p.weights_[1] * x)/p.weights_[2] for x in xs]\n",
    "plt.plot(xs, ys, 'k-')\n",
    "plt.show()"
   ]
  },
  {
   "cell_type": "code",
   "execution_count": 9,
   "metadata": {
    "collapsed": false
   },
   "outputs": [
    {
     "name": "stdout",
     "output_type": "stream",
     "text": [
      "[-1 -1 -1 -1 -1 -1 -1 -1 -1 -1 -1 -1 -1 -1 -1 -1 -1 -1 -1 -1 -1 -1 -1 -1 -1\n",
      " -1 -1 -1 -1 -1 -1 -1 -1 -1 -1 -1 -1 -1 -1 -1 -1 -1 -1 -1 -1 -1 -1 -1 -1 -1\n",
      "  1  1  1  1  1  1  1  1  1  1  1  1  1  1  1  1  1  1  1  1  1  1  1  1  1\n",
      "  1  1  1  1  1  1  1  1  1  1  1  1  1  1  1  1  1  1  1  1  1  1  1  1  1]\n",
      "[array(-1), array(-1), array(-1), array(-1), array(-1), array(-1), array(-1), array(-1), array(-1), array(-1), array(-1), array(-1), array(-1), array(-1), array(-1), array(-1), array(-1), array(-1), array(-1), array(-1), array(-1), array(-1), array(-1), array(-1), array(-1), array(-1), array(-1), array(-1), array(-1), array(-1), array(-1), array(-1), array(-1), array(-1), array(-1), array(-1), array(-1), array(-1), array(-1), array(-1), array(-1), array(-1), array(-1), array(-1), array(-1), array(-1), array(-1), array(-1), array(-1), array(-1), array(1), array(1), array(1), array(1), array(1), array(1), array(1), array(1), array(1), array(1), array(1), array(1), array(1), array(1), array(1), array(1), array(1), array(1), array(1), array(1), array(1), array(1), array(1), array(1), array(1), array(1), array(1), array(1), array(1), array(1), array(1), array(1), array(1), array(1), array(1), array(1), array(1), array(1), array(1), array(1), array(1), array(1), array(1), array(1), array(1), array(1), array(1), array(1), array(1), array(1)]\n"
     ]
    }
   ],
   "source": [
    "print(yy)\n",
    "print([p.predict(X) for X in XX])"
   ]
  }
 ],
 "metadata": {
  "kernelspec": {
   "display_name": "Python 2",
   "language": "python",
   "name": "python2"
  },
  "language_info": {
   "codemirror_mode": {
    "name": "ipython",
    "version": 2
   },
   "file_extension": ".py",
   "mimetype": "text/x-python",
   "name": "python",
   "nbconvert_exporter": "python",
   "pygments_lexer": "ipython2",
   "version": "2.7.11"
  }
 },
 "nbformat": 4,
 "nbformat_minor": 0
}
